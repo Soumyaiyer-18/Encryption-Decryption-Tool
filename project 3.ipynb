{
 "cells": [
  {
   "cell_type": "code",
   "execution_count": 1,
   "id": "8c6260fd-97f5-4787-89ba-2dfceb525484",
   "metadata": {},
   "outputs": [
    {
     "name": "stdout",
     "output_type": "stream",
     "text": [
      "Key generated and saved as secret.key\n",
      "Encrypted: b'gAAAAABnvdQK-YaqmnIQUYKQ-rFy18FpTpHQbE9ED6sP9SR6Rg-YmOvU9xQ084InUqyMSkOwFk4NkFivuyV3oiSILbwSHAD49-UJVO390o7z2vnZCM_xWE8rXI42HqtaZBgIElpiH5hm'\n",
      "Decrypted: Hello, this is a secret message!\n"
     ]
    }
   ],
   "source": [
    "from cryptography.fernet import Fernet\n",
    "\n",
    "# Function to generate and save a key\n",
    "def generate_key():\n",
    "    key = Fernet.generate_key()\n",
    "    with open(\"secret.key\", \"wb\") as key_file:\n",
    "        key_file.write(key)\n",
    "    print(\"Key generated and saved as secret.key\")\n",
    "\n",
    "# Function to load the saved key\n",
    "def load_key():\n",
    "    return open(\"secret.key\", \"rb\").read()\n",
    "\n",
    "# Function to encrypt a message\n",
    "def encrypt_message(message):\n",
    "    key = load_key()\n",
    "    cipher = Fernet(key)\n",
    "    encrypted_message = cipher.encrypt(message.encode())\n",
    "    return encrypted_message\n",
    "\n",
    "# Function to decrypt a message\n",
    "def decrypt_message(encrypted_message):\n",
    "    key = load_key()\n",
    "    cipher = Fernet(key)\n",
    "    decrypted_message = cipher.decrypt(encrypted_message).decode()\n",
    "    return decrypted_message\n",
    "\n",
    "# Example Usage\n",
    "generate_key()  # Run this once to create a key\n",
    "message = \"Hello, this is a secret message!\"\n",
    "encrypted_msg = encrypt_message(message)\n",
    "print(f\"Encrypted: {encrypted_msg}\")\n",
    "decrypted_msg = decrypt_message(encrypted_msg)\n",
    "print(f\"Decrypted: {decrypted_msg}\")"
   ]
  },
  {
   "cell_type": "code",
   "execution_count": null,
   "id": "0deabbe7-1cae-47fa-8d99-286e72116679",
   "metadata": {},
   "outputs": [],
   "source": []
  }
 ],
 "metadata": {
  "kernelspec": {
   "display_name": "Python 3 (ipykernel)",
   "language": "python",
   "name": "python3"
  },
  "language_info": {
   "codemirror_mode": {
    "name": "ipython",
    "version": 3
   },
   "file_extension": ".py",
   "mimetype": "text/x-python",
   "name": "python",
   "nbconvert_exporter": "python",
   "pygments_lexer": "ipython3",
   "version": "3.12.7"
  }
 },
 "nbformat": 4,
 "nbformat_minor": 5
}
